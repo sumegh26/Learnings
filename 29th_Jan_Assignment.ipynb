{
 "cells": [
  {
   "cell_type": "markdown",
   "id": "87e57691-4292-48c0-9055-157c781ed1af",
   "metadata": {},
   "source": [
    "# 1. Who developed Python Programming Language?"
   ]
  },
  {
   "cell_type": "markdown",
   "id": "6116078d-4e72-4a1b-8743-e29391c83324",
   "metadata": {},
   "source": [
    "Guido van Rossum"
   ]
  },
  {
   "cell_type": "markdown",
   "id": "b063c89b-eb5f-436e-8a3e-74dbeb2a8dfe",
   "metadata": {},
   "source": [
    "## 2. Which type of Programming does Python support?"
   ]
  },
  {
   "cell_type": "markdown",
   "id": "b65e6e67-2c9d-4795-bdc8-a45cacbcdfb4",
   "metadata": {},
   "source": [
    "Python is a multi-paradigm programming language. Object-oriented programming and structured programming are fully supported, and many of their features support functional programming and aspect-oriented programming (including metaprogramming and metaobjects)"
   ]
  },
  {
   "cell_type": "markdown",
   "id": "bf0c1318-4cf8-4042-93df-4987c32e62cb",
   "metadata": {},
   "source": [
    "## 3. Is Python case sensitive when dealing with identifiers?"
   ]
  },
  {
   "cell_type": "markdown",
   "id": "41965a95-e824-4668-851b-392570ac7921",
   "metadata": {},
   "source": [
    "Yes, Python is case sensitive when dealing with identifiers such as variable names, function names, and class names. This means that identifiers with different capitalization are treated as distinct and separate names.\n",
    "\n",
    "For example, the variable names \"my_variable\" and \"My_Variable\" would be considered different variables in Python. Similarly, the function names \"my_function\" and \"My_Function\" would be treated as different functions.\n",
    "\n",
    "It is important to be consistent with capitalization when defining identifiers in Python code to avoid errors or unexpected behavior."
   ]
  },
  {
   "cell_type": "markdown",
   "id": "a8c527e8-9e42-4be2-aa91-93e6356a9bf1",
   "metadata": {},
   "source": [
    "## 4. What is the correct extension of the Python file?"
   ]
  },
  {
   "cell_type": "markdown",
   "id": "0651b386-814b-4616-a6e9-e58da7730efa",
   "metadata": {},
   "source": [
    ".py is the correct extension of the Python file"
   ]
  },
  {
   "cell_type": "markdown",
   "id": "fd889d9e-d57f-4d7e-aaa2-18ad5961e7ae",
   "metadata": {},
   "source": [
    "## 5. Is Python code compiled or interpreted?"
   ]
  },
  {
   "cell_type": "markdown",
   "id": "3d436299-e8b6-401f-b0ff-58320db24abd",
   "metadata": {},
   "source": [
    "Python is an interpreted language, which means that Python code is executed directly without being compiled into machine code beforehand. When you run a Python script or program, the Python interpreter reads the code and executes it line by line.\n",
    "\n",
    "However, Python does use a compilation step called \"bytecode compilation\" to improve the performance of the interpreter. When a Python program is executed, the interpreter first compiles the code into bytecode, which is a low-level representation of the code that can be executed more efficiently. The bytecode is then executed by the Python interpreter.\n",
    "\n",
    "So while Python code is not compiled into machine code like languages such as C or C++, it is still compiled into a form of bytecode for more efficient execution."
   ]
  },
  {
   "cell_type": "markdown",
   "id": "d750a970-1faf-46ba-a130-e7e73dee340f",
   "metadata": {},
   "source": [
    "## 6. Name a few blocks of code used to define in Python language?"
   ]
  },
  {
   "cell_type": "markdown",
   "id": "703ba052-d4f3-433c-af9f-ab519c63c0a3",
   "metadata": {},
   "source": [
    "Function blocks: A function block is a group of statements that perform a specific task. In Python, a function is defined using the \"def\" keyword, followed by the function name, and the function parameters. The function body is indented below the function definition.\n",
    "\n",
    "Conditional blocks: A conditional block is a group of statements that are executed only if a certain condition is met. In Python, conditional statements are defined using the \"if\", \"elif\", and \"else\" keywords. The block of code that is executed if the condition is true is indented below the conditional statement.\n",
    "\n",
    "Loop blocks: A loop block is a group of statements that are executed repeatedly. In Python, there are two types of loop statements: \"for\" loops and \"while\" loops. The block of code that is executed repeatedly is indented below the loop statement.\n",
    "\n",
    "Class blocks: A class block is a group of statements that define a class in Python. A class is a blueprint for creating objects that share a common structure and behavior. In Python, a class is defined using the \"class\" keyword, followed by the class name, and the class body is indented below the class definition."
   ]
  },
  {
   "cell_type": "markdown",
   "id": "e2a8cf44-474c-4667-ab03-89c27b010da6",
   "metadata": {},
   "source": [
    "## 7. State a character used to give single-line comments in Python?"
   ]
  },
  {
   "cell_type": "markdown",
   "id": "01a07971-c12a-4291-b043-a239c7026efa",
   "metadata": {},
   "source": [
    "\"#\" is used for single line comments"
   ]
  },
  {
   "cell_type": "markdown",
   "id": "681d8a84-9b9e-447f-853a-3c22601590b4",
   "metadata": {},
   "source": [
    "## 8. Mention functions which can help us to find the version of python that we are currently working on? "
   ]
  },
  {
   "cell_type": "code",
   "execution_count": 5,
   "id": "449f4ab3-da2e-4498-a0c2-86b89abd50a3",
   "metadata": {},
   "outputs": [
    {
     "data": {
      "text/plain": [
       "'3.10.8'"
      ]
     },
     "execution_count": 5,
     "metadata": {},
     "output_type": "execute_result"
    }
   ],
   "source": [
    "from platform import python_version\n",
    "python_version()"
   ]
  },
  {
   "cell_type": "markdown",
   "id": "3832e74e-04ec-4d01-803d-4826ffdf7e03",
   "metadata": {},
   "source": [
    "## 9. Python supports the creation of anonymous functions at runtime, using a construct called"
   ]
  },
  {
   "cell_type": "markdown",
   "id": "75343bd2-87dc-46ac-9af6-52cb1655f541",
   "metadata": {},
   "source": [
    "Lambda"
   ]
  },
  {
   "cell_type": "markdown",
   "id": "b1e6d6eb-b6dd-4edf-a2f5-a568eb89113f",
   "metadata": {},
   "source": [
    "## 10. What does pip stand for python?"
   ]
  },
  {
   "cell_type": "markdown",
   "id": "56776192-8ea4-4311-a4c7-48829f2da193",
   "metadata": {},
   "source": [
    "pip Install Packages"
   ]
  },
  {
   "cell_type": "markdown",
   "id": "904aba78-b74b-4795-bf51-4a7e984277d3",
   "metadata": {},
   "source": [
    "## 11. Mention a few built-in functions in python?"
   ]
  },
  {
   "cell_type": "markdown",
   "id": "406023b3-ce53-4c11-8627-976eb239f740",
   "metadata": {},
   "source": [
    "type()\n",
    "filter()\n",
    "len()\n",
    "open()"
   ]
  },
  {
   "cell_type": "markdown",
   "id": "7c23a6b7-5799-4dd9-87a1-11a86707950d",
   "metadata": {},
   "source": [
    "## 12. What is the maximum possible length of an identifier in Python?"
   ]
  },
  {
   "cell_type": "markdown",
   "id": "679ff964-4ead-4560-81fa-3eb1b4c4fa3f",
   "metadata": {},
   "source": [
    "79 characters"
   ]
  },
  {
   "cell_type": "markdown",
   "id": "d97b05f2-aaa5-48bf-b7a2-005375344fd8",
   "metadata": {},
   "source": [
    "## 13. What are the benefits of using Python?"
   ]
  },
  {
   "cell_type": "markdown",
   "id": "2f212640-fdef-487d-8fe9-37cbfa2fb19f",
   "metadata": {},
   "source": [
    "Simple and easy to learn\n",
    "\n",
    "Wide range of applications\n",
    "\n",
    "Large and active community\n",
    "\n",
    "Cross-platform compatibility\n",
    "\n",
    "Extensive libraries and frameworks\n",
    "\n",
    "High productivity and efficiency"
   ]
  },
  {
   "cell_type": "markdown",
   "id": "e68fa550-c3c6-4afb-b38c-c94c9c2357be",
   "metadata": {},
   "source": [
    "## 14. How is memory managed in Python?"
   ]
  },
  {
   "cell_type": "markdown",
   "id": "a1f9e85e-0281-4031-a3c1-720fe89c043b",
   "metadata": {},
   "source": [
    "Memory management in Python is done automatically through a system called the Python Memory Manager. This system is responsible for allocating and freeing up memory used by Python objects during runtime.\n",
    "\n",
    "Python uses a technique called reference counting to keep track of objects and their references. Each time an object is created, a reference count is assigned to it, which is incremented each time a new reference is made to the object. Similarly, each time a reference is removed, the reference count is decremented. When the reference count of an object reaches zero, it is no longer in use and is automatically deleted from memory by the Python Memory Manager.\n",
    "\n",
    "In addition to reference counting, Python also uses a technique called garbage collection to free up memory used by objects that have circular references, where two or more objects reference each other but have no other references. The garbage collector periodically scans the memory to identify and delete such objects.\n",
    "\n",
    "Python also provides a mechanism for managing memory manually through the use of the \"gc\" module. This module provides functions for controlling the garbage collector and manually managing memory allocation and deallocation.\n",
    "\n",
    "Overall, memory management in Python is largely automatic and transparent to the developer, but there are ways to fine-tune and control memory usage when needed."
   ]
  },
  {
   "cell_type": "markdown",
   "id": "095588cd-a398-493b-bd02-d73d852f18a3",
   "metadata": {},
   "source": [
    "## 15. How to install Python on Windows and set path variables?"
   ]
  },
  {
   "cell_type": "markdown",
   "id": "055b1b83-bb9a-44fd-b27f-9c308d0b7736",
   "metadata": {},
   "source": [
    "1.Download the latest version of Python from the official Python website\n",
    "\n",
    "2.Run the installer and follow the prompts to complete the installation process. Be sure to select the option to add Python to your system path during the installation.\n",
    "\n",
    "3.Once the installation is complete, open the Start menu and search for \"Environment Variables\". Select \"Edit the system environment variables\".\n",
    "\n",
    "4.Click the \"Environment Variables\" button at the bottom of the System Properties window.\n",
    "\n",
    "5.Under the \"System Variables\" section, scroll down and find the \"Path\" variable. Click the \"Edit\" button.\n",
    "\n",
    "6.Click the \"New\" button and add the path to the Python installation directory. The default location is \"C:\\PythonXX\" where XX is the version number. For example, for Python 3.9, the path would be \"C:\\Python39\".\n",
    "\n",
    "7.Click \"OK\" to close all of the windows and save your changes.\n",
    "\n",
    "8.Open a command prompt or terminal window and type \"python\" to verify that Python has been installed correctly and that the path variable has been set up correctly. You should see the Python interpreter prompt."
   ]
  },
  {
   "cell_type": "markdown",
   "id": "1a4e03b5-c519-47c2-aa57-a374454aad7f",
   "metadata": {},
   "source": [
    "## 16. Is indentation required in python?"
   ]
  },
  {
   "cell_type": "markdown",
   "id": "18026308-c02f-4b5a-8e9f-7b7f349cf4c9",
   "metadata": {},
   "source": [
    "Yes ,indentation is mandatory in python"
   ]
  }
 ],
 "metadata": {
  "kernelspec": {
   "display_name": "Python 3 (ipykernel)",
   "language": "python",
   "name": "python3"
  },
  "language_info": {
   "codemirror_mode": {
    "name": "ipython",
    "version": 3
   },
   "file_extension": ".py",
   "mimetype": "text/x-python",
   "name": "python",
   "nbconvert_exporter": "python",
   "pygments_lexer": "ipython3",
   "version": "3.10.8"
  }
 },
 "nbformat": 4,
 "nbformat_minor": 5
}
