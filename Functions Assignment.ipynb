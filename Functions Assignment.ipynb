{
 "cells": [
  {
   "cell_type": "markdown",
   "id": "a4e7cfaa-e737-4f9d-8ad0-e8f4c23dd298",
   "metadata": {},
   "source": [
    "## Q1. Which keyword is used to create a function? Create a function to return a list of odd numbers in the range of 1 to 25."
   ]
  },
  {
   "cell_type": "markdown",
   "id": "054ac336-05e0-4e69-ae26-899f6bebd3c2",
   "metadata": {},
   "source": [
    "def keyword is used to create a function"
   ]
  },
  {
   "cell_type": "code",
   "execution_count": 118,
   "id": "c3f61727-2007-43b6-8cff-9e0c9d8786cc",
   "metadata": {},
   "outputs": [],
   "source": [
    "def odd_num():\n",
    "    odd = []\n",
    "    for i in range(25+1):\n",
    "        if i%2 != 0:\n",
    "            odd.append(i)\n",
    "    return odd"
   ]
  },
  {
   "cell_type": "code",
   "execution_count": 119,
   "id": "a3bf7f5a-4e45-4eb0-9f7d-8502c93223cc",
   "metadata": {},
   "outputs": [
    {
     "data": {
      "text/plain": [
       "[1, 3, 5, 7, 9, 11, 13, 15, 17, 19, 21, 23, 25]"
      ]
     },
     "execution_count": 119,
     "metadata": {},
     "output_type": "execute_result"
    }
   ],
   "source": [
    "odd_num()"
   ]
  },
  {
   "cell_type": "markdown",
   "id": "f448e668-c429-4ef2-a68e-8c29642e88ff",
   "metadata": {},
   "source": [
    "## Q2. Why *args and **kwargs is used in some functions? Create a function each for *args and **kwargs to demonstrate their use."
   ]
  },
  {
   "cell_type": "markdown",
   "id": "30adabd1-2aa2-4e92-b732-302a1b6ac9ea",
   "metadata": {},
   "source": [
    "*args is used to take multiple input values <br>\n",
    "**kwargs is used to take multiple key-value pairs of input"
   ]
  },
  {
   "cell_type": "code",
   "execution_count": 28,
   "id": "f8a3bad5-6815-46d3-9737-0887eaca6686",
   "metadata": {},
   "outputs": [],
   "source": [
    "#example of *args to add n number of inputs\n",
    "def sumation(*args):\n",
    "    sum = 0\n",
    "    for i in args:\n",
    "        sum +=i\n",
    "    return sum"
   ]
  },
  {
   "cell_type": "code",
   "execution_count": 29,
   "id": "23ff1bb4-6dc0-47ec-a0d0-75f9c7d9b7a9",
   "metadata": {},
   "outputs": [
    {
     "data": {
      "text/plain": [
       "103388"
      ]
     },
     "execution_count": 29,
     "metadata": {},
     "output_type": "execute_result"
    }
   ],
   "source": [
    "sumation(48,11,98484,1,4844)"
   ]
  },
  {
   "cell_type": "code",
   "execution_count": 45,
   "id": "286a4612-db65-46de-b52f-ce37bb59a6c3",
   "metadata": {},
   "outputs": [],
   "source": [
    "#example of **kwargs to display dictionary values\n",
    "def displayDic(**kwargs):\n",
    "    for key, value in kwargs.items():\n",
    "        print(\"%s for %s\" % (key, value))"
   ]
  },
  {
   "cell_type": "code",
   "execution_count": 46,
   "id": "ea796a15-f437-4ea3-8bb2-f614a2151a6f",
   "metadata": {},
   "outputs": [
    {
     "name": "stdout",
     "output_type": "stream",
     "text": [
      "p for python\n",
      "d for data\n"
     ]
    }
   ],
   "source": [
    "displayDic(p=\"python\",d=\"data\")"
   ]
  },
  {
   "cell_type": "markdown",
   "id": "9d8d27d8-cd62-4591-b9ad-c2688ee88981",
   "metadata": {},
   "source": [
    "## Q3. What is an iterator in python? Name the method used to initialise the iterator object and the method used for iteration. Use these methods to print the first five elements of the given\n",
    "list [2, 4, 6, 8, 10, 12, 14, 16,\n",
    "18, 20]."
   ]
  },
  {
   "cell_type": "markdown",
   "id": "666d89a5-4a48-46e8-9cbc-14f39ef2a549",
   "metadata": {},
   "source": [
    "An iterator is an object that contains a countable number of values.\n",
    "\n",
    "An iterator is an object that can be iterated upon, meaning that you can traverse through all the values.\n",
    "\n",
    "iter() method is used to initialise the iterator object"
   ]
  },
  {
   "cell_type": "code",
   "execution_count": 121,
   "id": "02772bac-aac2-4176-b969-acc4219c80be",
   "metadata": {},
   "outputs": [],
   "source": [
    "list = [2, 4, 6, 8, 10, 12, 14, 16, 18, 20]"
   ]
  },
  {
   "cell_type": "code",
   "execution_count": 122,
   "id": "773b77e2-65e1-46b0-bd4f-f29d0ea0406f",
   "metadata": {},
   "outputs": [],
   "source": [
    "iter_obj = iter(list)"
   ]
  },
  {
   "cell_type": "code",
   "execution_count": 123,
   "id": "0bcb4ef9-d94a-4645-a8d8-1b24cde61282",
   "metadata": {},
   "outputs": [
    {
     "name": "stdout",
     "output_type": "stream",
     "text": [
      "2\n",
      "4\n",
      "6\n",
      "8\n",
      "10\n"
     ]
    }
   ],
   "source": [
    "for i in range(5):\n",
    "    print(next(iter_obj))\n"
   ]
  },
  {
   "cell_type": "markdown",
   "id": "b6ffa6a1-38ca-40b9-8040-0c2789f8a9e0",
   "metadata": {},
   "source": [
    "## Q4. What is a generator function in python? Why yield keyword is used? Give an example of a generator function."
   ]
  },
  {
   "cell_type": "markdown",
   "id": "330845a4-5903-49b6-b02e-f07daa386af2",
   "metadata": {},
   "source": [
    "Generator function returns data one by one instead of appending all the data in a single list like collection\n",
    "\n",
    "The yield statement suspends a function’s execution and sends a value back to the caller, but retains enough state to enable the function to resume where it left off. When the function resumes, it continues execution immediately after the last yield run. This allows its code to produce a series of values over time, rather than computing them at once and sending them back like a list."
   ]
  },
  {
   "cell_type": "code",
   "execution_count": 70,
   "id": "d0f3b1e4-5ecd-4f2b-a497-c957ff23b711",
   "metadata": {},
   "outputs": [],
   "source": [
    "#example of generator function to print fibonnaci series\n",
    "def fibo(n):\n",
    "    a=0\n",
    "    b=1\n",
    "    for i in range(n):\n",
    "        yield a\n",
    "        a,b = b, a+b"
   ]
  },
  {
   "cell_type": "code",
   "execution_count": 71,
   "id": "dc801b4f-75f2-4934-b60c-5b8a4a925038",
   "metadata": {},
   "outputs": [
    {
     "name": "stdout",
     "output_type": "stream",
     "text": [
      "0\n",
      "1\n",
      "1\n",
      "2\n",
      "3\n",
      "5\n",
      "8\n",
      "13\n",
      "21\n",
      "34\n"
     ]
    }
   ],
   "source": [
    "for i in fibo(10):\n",
    "    print(i)"
   ]
  },
  {
   "cell_type": "markdown",
   "id": "616e12f3-3ab8-4332-9132-d0706e000729",
   "metadata": {},
   "source": [
    "## Q5. Create a generator function for prime numbers less than 1000. Use the next() method to print the first 20 prime numbers."
   ]
  },
  {
   "cell_type": "code",
   "execution_count": 112,
   "id": "ec429b3e-fc0e-41f1-8680-a1881c002bf7",
   "metadata": {},
   "outputs": [],
   "source": [
    "#example of generator function for prime numbers less than 1000\n",
    "def isPrime(n):\n",
    "    for i in range(n):\n",
    "        f=0\n",
    "        if i == 1:\n",
    "            pass\n",
    "        elif i > 1:\n",
    "            for j in range(2, i):\n",
    "                if (i % j) == 0:\n",
    "                    f=1\n",
    "                    break\n",
    "            if f==0:\n",
    "                yield i"
   ]
  },
  {
   "cell_type": "code",
   "execution_count": 115,
   "id": "d7798cd3-e134-4a6a-b47f-d9a16a0b2c85",
   "metadata": {},
   "outputs": [
    {
     "name": "stdout",
     "output_type": "stream",
     "text": [
      "2\n",
      "3\n",
      "5\n",
      "7\n",
      "11\n",
      "13\n",
      "17\n",
      "19\n",
      "23\n",
      "29\n",
      "31\n",
      "37\n",
      "41\n",
      "43\n",
      "47\n",
      "53\n",
      "59\n",
      "61\n",
      "67\n",
      "71\n"
     ]
    }
   ],
   "source": [
    "iter_prime = iter(isPrime(1000))\n",
    "\n",
    "for i in range(20): \n",
    "    print(next(iter_prime))\n"
   ]
  }
 ],
 "metadata": {
  "kernelspec": {
   "display_name": "Python 3 (ipykernel)",
   "language": "python",
   "name": "python3"
  },
  "language_info": {
   "codemirror_mode": {
    "name": "ipython",
    "version": 3
   },
   "file_extension": ".py",
   "mimetype": "text/x-python",
   "name": "python",
   "nbconvert_exporter": "python",
   "pygments_lexer": "ipython3",
   "version": "3.10.8"
  }
 },
 "nbformat": 4,
 "nbformat_minor": 5
}
