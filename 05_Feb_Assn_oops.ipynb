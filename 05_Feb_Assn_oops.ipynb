{
 "cells": [
  {
   "cell_type": "markdown",
   "id": "6b8aefdf-460f-4613-a650-d977204f211d",
   "metadata": {},
   "source": [
    "## Q1. Explain Class and Object with respect to Object-Oriented Programming. Give a suitable example."
   ]
  },
  {
   "cell_type": "markdown",
   "id": "98c0976c-84d9-4e91-b1d0-c03693d30b25",
   "metadata": {},
   "source": [
    "A class is a blueprint or template that defines a set of attributes and behaviors that objects of that class should have, while an object is an instance of a class that contains specific values for the attributes defined in the class and can perform the behaviors defined in the class.\n",
    "\n",
    "For example, consider a class called Car that represents a car. It could have attributes such as make, model, year, color, and mileage. It could also have behaviors such as drive, accelerate, brake, and change_gear.\n",
    "\n",
    "To create an object of this class, we would first need to create an instance of the Car class. This can be done using the __init__() method (also known as the constructor method) that is defined in the Car class. The __init__() method sets the initial values for the attributes of the object. For "
   ]
  },
  {
   "cell_type": "code",
   "execution_count": 1,
   "id": "3f426a12-d088-4e21-b33c-fc563960b5f6",
   "metadata": {},
   "outputs": [],
   "source": [
    "# Example\n",
    "class Car:\n",
    "    def __init__(self, make, model, year, color, mileage):\n",
    "        self.make = make\n",
    "        self.model = model\n",
    "        self.year = year\n",
    "        self.color = color\n",
    "        self.mileage = mileage\n",
    "\n",
    "    def drive(self):\n",
    "        print(\"Driving the car...\")\n",
    "\n",
    "    def accelerate(self):\n",
    "        print(\"Accelerating the car...\")\n",
    "\n",
    "    def brake(self):\n",
    "        print(\"Applying the brake...\")\n",
    "\n",
    "    def change_gear(self):\n",
    "        print(\"Changing the gear...\")\n",
    "\n",
    "# Create an object of the Car class\n",
    "my_car = Car(\"Toyota\", \"Camry\", 2020, \"red\", 5000)\n"
   ]
  },
  {
   "cell_type": "markdown",
   "id": "0a16f45a-fa06-4f0c-bc92-ab88aa82e3c1",
   "metadata": {},
   "source": [
    "In this example, we define the Car class with the attributes make, model, year, color, and mileage, and the methods drive(), accelerate(), brake(), and change_gear(). We then create an object of the Car class called my_car by calling the Car() constructor method with the appropriate arguments.\n",
    "\n",
    "Once we have an object of the Car class, we can access its attributes and methods using dot notation. For example, we can access the make attribute of the my_car object by calling my_car.make. We can also call its methods using the dot notation, such as my_car.drive(), my_car.accelerate(), my_car.brake(), and my_car.change_gear()."
   ]
  },
  {
   "cell_type": "markdown",
   "id": "41868e6b-8373-4a3d-ac1d-4aecb7d677d0",
   "metadata": {},
   "source": [
    "## Q2. Name the four pillars of OOPs."
   ]
  },
  {
   "cell_type": "markdown",
   "id": "404aa8a7-94d1-4a15-85c3-b49c198d981c",
   "metadata": {},
   "source": [
    "Encapsulation: It is the process of wrapping related data and functions together into a single unit called a class. It provides the ability to hide the internal details of an object from the rest of the program and protects the data from being accessed directly.\n",
    "\n",
    "Inheritance: It is the ability of a class to inherit properties and methods from a parent class. This helps to reduce code duplication and makes the code more modular and reusable.\n",
    "\n",
    "Polymorphism: It is the ability of an object to take on many forms. It allows objects of different classes to be treated as if they were the same type of object. It is achieved through method overloading, method overriding, and operator overloading.\n",
    "\n",
    "Abstraction: It is the process of hiding the complexity of an object and showing only the essential features to the user. It helps to reduce the complexity of the program and makes it easier to maintain and understand. It is achieved through abstract classes and interfaces."
   ]
  },
  {
   "cell_type": "markdown",
   "id": "58f027a7-0ebe-44c5-895e-89863bee80af",
   "metadata": {},
   "source": [
    "## Q3. Explain why the __init__() function is used. Give a suitable example."
   ]
  },
  {
   "cell_type": "markdown",
   "id": "e4c88afb-8795-4281-863b-718b3205962a",
   "metadata": {},
   "source": [
    "The __init__() function (constructor function) is used to initialize the attributes of an object when it is created. It is called automatically when an object is created, and its purpose is to set the initial values of the object's attributes.\n",
    "\n",
    "There are several reasons why the __init__() function is used. Firstly, it ensures that every object of the class is created with the required attributes and their initial values. Secondly, it makes it easier to set default values for the attributes of the object. Thirdly, it allows the user to pass arguments to the object during its creation, which can then be used to set the initial values of the attributes."
   ]
  },
  {
   "cell_type": "markdown",
   "id": "07d0a38a-5396-4d54-a65d-40643b41ebd1",
   "metadata": {},
   "source": [
    "## Q4. Why self is used in OOPs?"
   ]
  },
  {
   "cell_type": "markdown",
   "id": "ec9fd777-df0c-4b4a-9217-d0fc6d8591b6",
   "metadata": {},
   "source": [
    "self is a reference to the instance of the class. It is used to access the attributes and methods of the instance within the class methods.\n",
    "\n",
    "When a class method is called on an instance of the class, the instance is automatically passed as the first argument to the method, and by convention, it is named self. Using self as the first parameter in the method definition allows the method to access and modify the attributes and methods of the instance."
   ]
  },
  {
   "cell_type": "code",
   "execution_count": null,
   "id": "cdfdac81-be53-4b37-a002-2f746421ca25",
   "metadata": {},
   "outputs": [],
   "source": [
    "#Example\n",
    "class Person:\n",
    "    def __init__(self, name, age):\n",
    "        self.name = name\n",
    "        self.age = age\n",
    "\n",
    "    def introduce(self):\n",
    "        print(\"Hi, my name is\", self.name, \"and I am\", self.age, \"years old.\")"
   ]
  },
  {
   "cell_type": "markdown",
   "id": "04531a56-d56d-42f2-b9c5-b2263dc30c91",
   "metadata": {},
   "source": [
    "## Q5. What is inheritance? Give an example for each type of inheritance."
   ]
  },
  {
   "cell_type": "markdown",
   "id": "e4e7fc8c-3bfb-42ce-9bed-103e3d6fa7ef",
   "metadata": {},
   "source": [
    "Inheritance allows a new class to be based on an existing class, inheriting its properties and behaviors. The existing class is called the parent class or superclass, and the new class is called the child class or subclass. Inheritance is a way to promote code reuse and reduce redundancy in programming.\n",
    "\n",
    "There are four types of inheritance in Python:\n",
    "\n",
    "Single inheritance\n",
    "<br> Multiple inheritance<br>\n",
    "Multi-level inheritance<br>\n",
    "Hierarchical inheritance"
   ]
  },
  {
   "cell_type": "code",
   "execution_count": null,
   "id": "7ed3aa42-26db-4594-90d2-a750aec67422",
   "metadata": {},
   "outputs": [],
   "source": [
    "#Example\n",
    "class Animal:\n",
    "    def __init__(self, name):\n",
    "        self.name = name\n",
    "\n",
    "    def speak(self):\n",
    "        print(\"I am an animal.\")\n",
    "\n",
    "class Dog(Animal):\n",
    "    def __init__(self, name):\n",
    "        super().__init__(name)\n",
    "\n",
    "    def speak(self):\n",
    "        print(\"I am a dog.\")"
   ]
  },
  {
   "cell_type": "markdown",
   "id": "b5639440-eeee-4435-9d3c-753af553badf",
   "metadata": {},
   "source": [
    "In this example, we define two classes Animal and Dog, where Dog is a subclass of Animal. The Animal class has an attribute name and a method speak(), which prints \"I am an animal\". The Dog class inherits from the Animal class and overrides the speak() method to print \"I am a dog\"."
   ]
  },
  {
   "cell_type": "code",
   "execution_count": null,
   "id": "c00a7002-c825-4d93-b21f-b5bb21396127",
   "metadata": {},
   "outputs": [],
   "source": []
  }
 ],
 "metadata": {
  "kernelspec": {
   "display_name": "Python 3 (ipykernel)",
   "language": "python",
   "name": "python3"
  },
  "language_info": {
   "codemirror_mode": {
    "name": "ipython",
    "version": 3
   },
   "file_extension": ".py",
   "mimetype": "text/x-python",
   "name": "python",
   "nbconvert_exporter": "python",
   "pygments_lexer": "ipython3",
   "version": "3.10.8"
  }
 },
 "nbformat": 4,
 "nbformat_minor": 5
}
