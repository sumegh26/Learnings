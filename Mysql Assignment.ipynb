{
 "cells": [
  {
   "cell_type": "markdown",
   "id": "9723b4b7-3b47-493a-a7de-a8375ce2a0c4",
   "metadata": {},
   "source": [
    "## Q1. What is a database? Differentiate between SQL and NoSQL databases."
   ]
  },
  {
   "cell_type": "markdown",
   "id": "b1d4c6f5-f111-488f-8043-bc27657d0e8f",
   "metadata": {},
   "source": [
    "A1. A database is a structured collection of data that is organized and managed in a way that allows for efficient storage, retrieval, and manipulation of information. Databases can be used to store a wide variety of data, such as text, numbers, images, and more.\n",
    "\n",
    "SQL and NoSQL are two different types of databases that differ in their structure, storage, and approach to handling data.\n",
    "\n",
    "SQL databases are relational databases that use structured query language (SQL) to manage data. They are organized into tables, with each table containing rows and columns. SQL databases have a predefined schema, which means that the structure of the database is fixed and must be defined before any data can be inserted. Examples of SQL databases include MySQL, Oracle, and Microsoft SQL Server.\n",
    "\n",
    "NoSQL databases, on the other hand, are non-relational databases that do not use SQL to manage data. They are designed to handle unstructured data, such as documents, images, and videos. NoSQL databases are schema-less, which means that the structure of the database can be changed on-the-fly, making them more flexible than SQL databases. Examples of NoSQL databases include MongoDB, Cassandra, and Couchbase.\n",
    "\n",
    "In summary, SQL databases are relational, structured, and have a fixed schema, while NoSQL databases are non-relational, unstructured, and have a flexible schema."
   ]
  },
  {
   "cell_type": "markdown",
   "id": "1f7218ca-361e-4015-a194-a3917a2f35b5",
   "metadata": {},
   "source": [
    "## Q2. What is DDL? Explain why CREATE, DROP, ALTER, and TRUNCATE are used with an example."
   ]
  },
  {
   "cell_type": "markdown",
   "id": "da2cb2ac-ad3a-4f59-8701-6e1e78fddfcf",
   "metadata": {},
   "source": [
    "DDL stands for Data Definition Language, which is a set of SQL commands used to define, modify, and remove database structures, such as tables, indexes, and constraints.\n",
    "\n",
    "The following are some of the commonly used DDL commands in SQL:\n",
    "\n"
   ]
  },
  {
   "cell_type": "markdown",
   "id": "666fa7a4-4be0-48a6-b885-7a4699c0ecc4",
   "metadata": {},
   "source": [
    "CREATE: The CREATE command is used to create new database objects, such as tables, indexes, views, and stored procedures. For example, the following SQL statement creates a new table called \"customers\":"
   ]
  },
  {
   "cell_type": "raw",
   "id": "ccc7e8cf-3072-4787-8dd9-21cda98c2563",
   "metadata": {},
   "source": [
    "CREATE TABLE customers (\n",
    "  customer_id INT PRIMARY KEY,\n",
    "  customer_name VARCHAR(50) NOT NULL,\n",
    "  email VARCHAR(50)\n",
    ");"
   ]
  },
  {
   "cell_type": "markdown",
   "id": "5a39b88a-302a-47e1-a635-b9ee9ca434ed",
   "metadata": {},
   "source": [
    "DROP: The DROP command is used to remove existing database objects, such as tables, indexes, views, and stored procedures. For example, the following SQL statement drops the \"customers\" table:"
   ]
  },
  {
   "cell_type": "raw",
   "id": "ab05060b-16da-457e-b034-7280477fb559",
   "metadata": {},
   "source": [
    "DROP TABLE customers;"
   ]
  },
  {
   "cell_type": "markdown",
   "id": "f29ebd21-7156-4cad-9d68-59f13f0c67c8",
   "metadata": {},
   "source": [
    "ALTER: The ALTER command is used to modify the structure of existing database objects, such as tables, columns, and constraints. For example, the following SQL statement adds a new column called \"phone\" to the \"customers\" table:"
   ]
  },
  {
   "cell_type": "raw",
   "id": "2fc9df07-9bc2-491c-a18e-36de18478ebf",
   "metadata": {},
   "source": [
    "ALTER TABLE customers ADD phone VARCHAR(20);"
   ]
  },
  {
   "cell_type": "markdown",
   "id": "0de6ad7c-d165-4fc5-b59a-9672c95428ad",
   "metadata": {},
   "source": [
    "TRUNCATE: The TRUNCATE command is used to remove all the data from a table, while keeping its structure intact. For example, the following SQL statement removes all the data from the \"customers\" table:"
   ]
  },
  {
   "cell_type": "raw",
   "id": "1bdafb48-03d7-4d4f-85b0-8f8ef96b4b8f",
   "metadata": {},
   "source": [
    "TRUNCATE TABLE customers;"
   ]
  },
  {
   "cell_type": "markdown",
   "id": "fcb809e1-2f7d-45fb-869e-d1d2952c67da",
   "metadata": {},
   "source": [
    "## Q3. What is DML? Explain INSERT, UPDATE, and DELETE with an example."
   ]
  },
  {
   "cell_type": "markdown",
   "id": "d1ba1165-141f-4e57-82b6-9068cfd1f98c",
   "metadata": {},
   "source": [
    "DML stands for Data Manipulation Language, which is a subset of SQL (Structured Query Language) used to manipulate data in a relational database management system (RDBMS). DML commands are used to insert, update, and delete data in tables.\n",
    "\n",
    "Here are some examples of DML commands:"
   ]
  },
  {
   "cell_type": "markdown",
   "id": "e2877b8e-dd4a-4519-b647-7191ea906ce5",
   "metadata": {},
   "source": [
    "INSERT: The INSERT statement is used to add new data to a table. For example, consider the following table called \"employees\":"
   ]
  },
  {
   "cell_type": "raw",
   "id": "caa1a75b-196e-4c90-9971-b3764d36a621",
   "metadata": {},
   "source": [
    "id\tname\tage\tdepartment\n",
    "1\tJohn Doe\t25\tSales\n",
    "2\tJane Doe\t30\tMarketing\n",
    "3\tBob Smith\t35\tIT"
   ]
  },
  {
   "cell_type": "raw",
   "id": "29004fda-574a-49d1-86a6-9bfb1cf4740f",
   "metadata": {},
   "source": [
    "To insert a new employee into the table, we can use the following INSERT statement:\n",
    "INSERT INTO employees (id, name, age, department)\n",
    "VALUES (4, 'Mary Johnson', 28, 'HR');"
   ]
  },
  {
   "cell_type": "markdown",
   "id": "bc62c97f-aa4a-462f-ae48-5af75575917a",
   "metadata": {},
   "source": [
    "UPDATE: The UPDATE statement is used to modify existing data in a table. For example, to update the age of the employee with id 2 to 35, we can use the following UPDATE statement:"
   ]
  },
  {
   "cell_type": "raw",
   "id": "2416e881-05cc-4874-a444-821c1bcd8b57",
   "metadata": {},
   "source": [
    "UPDATE employees\n",
    "SET age = 35\n",
    "WHERE id = 2;"
   ]
  },
  {
   "cell_type": "markdown",
   "id": "b0d29f6d-80ec-477f-a498-7d8183264b43",
   "metadata": {},
   "source": [
    "DELETE: The DELETE statement is used to remove data from a table. For example, to delete the employee with id 3 from the \"employees\" table, we can use the following DELETE statement:"
   ]
  },
  {
   "cell_type": "raw",
   "id": "76045dbb-21a9-49f4-b8bb-6475c9b0ab26",
   "metadata": {},
   "source": [
    "DELETE FROM employees\n",
    "WHERE id = 3;"
   ]
  },
  {
   "cell_type": "markdown",
   "id": "ac83e61b-f128-44d3-8f02-cfd202b50d39",
   "metadata": {},
   "source": [
    "## Q4. What is DQL? Explain SELECT with an example."
   ]
  },
  {
   "cell_type": "markdown",
   "id": "8d32a36e-eee8-4ec3-92cb-0830a9bbb7c1",
   "metadata": {},
   "source": [
    "DQL stands for Data Query Language, which is a subset of SQL (Structured Query Language) used to query data from a relational database management system (RDBMS). DQL commands are used to retrieve data from tables."
   ]
  },
  {
   "cell_type": "markdown",
   "id": "264f0566-9e4d-42f7-b312-ab2feced7fd5",
   "metadata": {},
   "source": [
    "SELECT: The SELECT statement is used to retrieve data from one or more tables in a database. For example, consider the following table called \"employees\":"
   ]
  },
  {
   "cell_type": "raw",
   "id": "89a9fbb4-8293-484a-b426-7a250428ad0f",
   "metadata": {},
   "source": [
    "id\tname\tage\tdepartment\n",
    "1\tJohn Doe\t25\tSales\n",
    "2\tJane Doe\t30\tMarketing\n",
    "3\tBob Smith\t35\tIT"
   ]
  },
  {
   "cell_type": "markdown",
   "id": "7539138f-dca1-4210-9e12-41dbf1f0d7eb",
   "metadata": {},
   "source": [
    "To retrieve all the data from the \"employees\" table, we can use the following SELECT statement:"
   ]
  },
  {
   "cell_type": "raw",
   "id": "475e2c84-07c9-4f9d-864e-538408ff8e9e",
   "metadata": {},
   "source": [
    "SELECT * FROM employees;"
   ]
  },
  {
   "cell_type": "markdown",
   "id": "194a7487-3bd8-4730-95cc-cceaaf4a4eef",
   "metadata": {},
   "source": [
    "select specific columns by listing them after the SELECT keyword"
   ]
  },
  {
   "cell_type": "raw",
   "id": "077c1261-d7bc-432c-8956-6a8d1d795194",
   "metadata": {},
   "source": [
    "SELECT name, department FROM employees;"
   ]
  },
  {
   "cell_type": "markdown",
   "id": "d8acb4b9-8333-43f6-af9a-645f9cc23a16",
   "metadata": {},
   "source": [
    "We can also add conditions to filter the results"
   ]
  },
  {
   "cell_type": "raw",
   "id": "d23129b7-a105-4e4b-b6e3-7590d0dfb5df",
   "metadata": {},
   "source": [
    "SELECT * FROM employees\n",
    "WHERE age < 30;"
   ]
  },
  {
   "cell_type": "markdown",
   "id": "9c349f1c-934d-45da-8a4f-ef69900e5fb7",
   "metadata": {},
   "source": [
    "## Q5. Explain Primary Key and Foreign Key."
   ]
  },
  {
   "cell_type": "markdown",
   "id": "ecd47fb4-2c53-4dbe-a38d-b370c72b70e7",
   "metadata": {},
   "source": [
    "Primary key and foreign key are two important concepts in database design that are used to establish relationships between tables in a relational database management system (RDBMS).\n",
    "\n",
    "Primary Key:\n",
    "A primary key is a unique identifier for each row in a table. It is a column or a combination of columns that uniquely identifies each record in the table. A primary key is used to enforce the integrity of the data by ensuring that each record is unique and can be easily accessed and updated. Some characteristics of primary keys are:\n",
    "A primary key cannot contain null values.\n",
    "A primary key must be unique for each record in the table.\n",
    "A primary key must have a defined data type.\n",
    "For example, in a table called \"students\", the primary key could be the \"student_id\" column, which is a unique identifier for each student.\n",
    "\n",
    "Foreign Key:\n",
    "A foreign key is a column in one table that refers to the primary key of another table. It is used to establish a relationship between two tables in a database. A foreign key is used to enforce referential integrity by ensuring that the values in the column match the values of the primary key in the related table.\n",
    "For example, consider two tables called \"students\" and \"courses\". The \"students\" table has a primary key \"student_id\", and the \"courses\" table has a primary key \"course_id\". To establish a relationship between the two tables, we can create a foreign key in the \"courses\" table that references the \"student_id\" column in the \"students\" table. This would allow us to link each course to the student who is enrolled in it.\n",
    "\n",
    "Some characteristics of foreign keys are:\n",
    "\n",
    "A foreign key can contain null values.\n",
    "A foreign key must match the data type of the primary key in the related table.\n",
    "A foreign key can be used to enforce referential integrity, which ensures that data in the related tables remains consistent.\n",
    "In summary, primary keys are used to uniquely identify records in a table, while foreign keys are used to establish relationships between tables in a database."
   ]
  },
  {
   "cell_type": "markdown",
   "id": "9c730a3b-79f7-4021-a714-5f659154fc8a",
   "metadata": {},
   "source": [
    "## Q6. Write a python code to connect MySQL to python. Explain the cursor() and execute() method."
   ]
  },
  {
   "cell_type": "markdown",
   "id": "d7b1e6f0-b618-4339-a058-8bdee6d4bdf4",
   "metadata": {},
   "source": [
    "To connect MySQL to Python, we need to install a MySQL connector package. The most commonly used package is \"mysql-connector-python\", which can be installed using pip. Here is an example code to connect MySQL to Python and execute a SELECT statement:\n",
    "\n"
   ]
  },
  {
   "cell_type": "code",
   "execution_count": null,
   "id": "971bc718-d05a-47f8-8cb7-f367564ba0a9",
   "metadata": {},
   "outputs": [],
   "source": [
    "import mysql.connector\n",
    "\n",
    "# create a connection to the database\n",
    "cnx = mysql.connector.connect(\n",
    "    user='username',\n",
    "    password='password',\n",
    "    host='localhost',\n",
    "    database='database_name'\n",
    ")\n",
    "\n",
    "# create a cursor object\n",
    "cursor = cnx.cursor()\n",
    "\n",
    "# execute a SELECT statement\n",
    "query = \"SELECT * FROM table_name\"\n",
    "cursor.execute(query)\n",
    "\n",
    "# fetch all rows using fetchall() method\n",
    "rows = cursor.fetchall()\n",
    "\n",
    "# print the rows\n",
    "for row in rows:\n",
    "    print(row)\n",
    "\n",
    "# close the cursor and connection\n",
    "cursor.close()\n",
    "cnx.close()\n"
   ]
  },
  {
   "cell_type": "markdown",
   "id": "5d0eacbc-7ce0-4375-9ba8-a7768d0584f2",
   "metadata": {},
   "source": [
    "The cursor() method is used to create a cursor object that allows us to execute SQL queries and fetch data from the database. The cursor object maintains the state of the current position in the result set and provides methods to fetch data, such as fetchone() and fetchall().\n",
    "\n",
    "The execute() method is used to execute an SQL query on the database. It takes an SQL query string as a parameter and returns None. If the query returns a result set, we need to use methods like fetchone() or fetchall() to retrieve the results. The execute() method can also take parameters in the form of a tuple, which are used to replace placeholders in the SQL query string."
   ]
  },
  {
   "cell_type": "markdown",
   "id": "1ef46bf1-2a46-464b-a93d-41f0f0c6cc5c",
   "metadata": {},
   "source": [
    "## Q7. Give the order of execution of SQL clauses in an SQL query."
   ]
  },
  {
   "cell_type": "markdown",
   "id": "ea78b5f9-963c-43f2-914d-1bf8cd40a108",
   "metadata": {},
   "source": [
    "In SQL, the order of execution of clauses in an SQL query is as follows:\n",
    "\n",
    "1. FROM clause: The FROM clause specifies the table or tables from which the data will be retrieved.\n",
    "\n",
    "2. JOIN clause: The JOIN clause is used to combine data from two or more tables based on a related column.\n",
    "\n",
    "3. WHERE clause: The WHERE clause is used to filter data based on a specified condition.\n",
    "\n",
    "4. GROUP BY clause: The GROUP BY clause is used to group the data by one or more columns.\n",
    "\n",
    "5. HAVING clause: The HAVING clause is used to filter the grouped data based on a specified condition.\n",
    "\n",
    "6. SELECT clause: The SELECT clause is used to select the columns to be included in the result set.\n",
    "\n",
    "7. DISTINCT clause: The DISTINCT clause is used to remove duplicate rows from the result set.\n",
    "\n",
    "8. ORDER BY clause: The ORDER BY clause is used to sort the result set based on one or more columns.\n",
    "\n",
    "9. LIMIT clause: The LIMIT clause is used to limit the number of rows returned by the query.\n",
    "\n"
   ]
  }
 ],
 "metadata": {
  "kernelspec": {
   "display_name": "Python 3 (ipykernel)",
   "language": "python",
   "name": "python3"
  },
  "language_info": {
   "codemirror_mode": {
    "name": "ipython",
    "version": 3
   },
   "file_extension": ".py",
   "mimetype": "text/x-python",
   "name": "python",
   "nbconvert_exporter": "python",
   "pygments_lexer": "ipython3",
   "version": "3.10.8"
  }
 },
 "nbformat": 4,
 "nbformat_minor": 5
}
