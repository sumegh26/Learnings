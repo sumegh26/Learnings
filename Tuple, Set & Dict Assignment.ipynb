{
 "cells": [
  {
   "cell_type": "markdown",
   "id": "c650070b-8e27-4aea-98e1-71d9eb8bee77",
   "metadata": {},
   "source": [
    "## Q1. What are the characteristics of the tuples? Is tuple immutable?"
   ]
  },
  {
   "cell_type": "markdown",
   "id": "8922c641-5851-4997-9976-4ff5c5489dd0",
   "metadata": {},
   "source": [
    "Tuple is ordered, unchangable and allows duplicate values.\n",
    "</br> tuple is immutable."
   ]
  },
  {
   "cell_type": "markdown",
   "id": "4bc9d992-39aa-41e4-b0ac-c26876ac73b4",
   "metadata": {},
   "source": [
    "## Q2. What are the two tuple methods in python? Give an example of each method. Give a reason why tuples have only two in-built methods as compared to Lists."
   ]
  },
  {
   "cell_type": "markdown",
   "id": "87c0b72c-3118-4888-a24c-5cd98b1dd65b",
   "metadata": {},
   "source": [
    "Two tuple methods are\n",
    "1.count\n",
    "2.index\n",
    "Tuple has only 2 method because tuples are immutable"
   ]
  },
  {
   "cell_type": "code",
   "execution_count": 37,
   "id": "a0c16630-e433-4490-b296-cc5d57a9e86a",
   "metadata": {},
   "outputs": [],
   "source": [
    "tuple_ex = (\"eggs\",\"apple\",\"eggs\",\"apple\")"
   ]
  },
  {
   "cell_type": "code",
   "execution_count": 38,
   "id": "4a071e34-0df3-4e2d-b545-6a61cb1257c7",
   "metadata": {},
   "outputs": [
    {
     "data": {
      "text/plain": [
       "2"
      ]
     },
     "execution_count": 38,
     "metadata": {},
     "output_type": "execute_result"
    }
   ],
   "source": [
    "#gives the number of eggs\n",
    "tuple_ex.count(\"eggs\")"
   ]
  },
  {
   "cell_type": "code",
   "execution_count": 39,
   "id": "80ef2653-15f5-4e43-bc37-fe18d767f3ae",
   "metadata": {},
   "outputs": [
    {
     "data": {
      "text/plain": [
       "1"
      ]
     },
     "execution_count": 39,
     "metadata": {},
     "output_type": "execute_result"
    }
   ],
   "source": [
    "#gives the index of the first occurance of apple\n",
    "tuple_ex.index(\"apple\")"
   ]
  },
  {
   "cell_type": "markdown",
   "id": "2d35d32b-f48c-4d95-ad32-95cbe1cb966a",
   "metadata": {},
   "source": [
    "## Q3. Which collection datatypes in python do not allow duplicate items? Write a code using a set to remove duplicates from the given list.\n",
    "## List = [1, 1, 1, 2, 1, 3, 1, 4, 2, 1, 2, 2, 2, 3, 2, 4, 3, 1, 3, 2, 3, 3, 3, 4, 4, 1, 4, 2, 4, 3, 4, 4]"
   ]
  },
  {
   "cell_type": "markdown",
   "id": "75903a7d-27e9-4cef-91ad-9e1b655409e6",
   "metadata": {},
   "source": [
    "set and dictionary collection datatypes do not allow duplicate items"
   ]
  },
  {
   "cell_type": "code",
   "execution_count": 44,
   "id": "a49f6a25-6890-42a5-b2f3-e204a74acad8",
   "metadata": {},
   "outputs": [],
   "source": [
    "List = [1, 1, 1, 2, 1, 3, 1, 4, 2, 1, 2, 2, 2, 3, 2, 4, 3, 1, 3, 2, 3, 3, 3, 4, 4, 1, 4, 2, 4, 3, 4, 4]"
   ]
  },
  {
   "cell_type": "code",
   "execution_count": 45,
   "id": "5b493bcf-f6b1-4582-a17a-eaf620d4c481",
   "metadata": {},
   "outputs": [
    {
     "data": {
      "text/plain": [
       "{1, 2, 3, 4}"
      ]
     },
     "execution_count": 45,
     "metadata": {},
     "output_type": "execute_result"
    }
   ],
   "source": [
    "#code to remove duplicate items using set\n",
    "set(List)"
   ]
  },
  {
   "cell_type": "markdown",
   "id": "510efef7-3919-41b6-a747-462792f07db2",
   "metadata": {},
   "source": [
    "## Q4. Explain the difference between the union() and update() methods for a set. Give an example of each method."
   ]
  },
  {
   "cell_type": "markdown",
   "id": "67dd7dc7-b9c6-4ede-9ecd-42515c12ae23",
   "metadata": {},
   "source": [
    "union() return a set that contains all items from both sets, duplicates are excluded.\n",
    "\n",
    "update() updates the current set, by adding items from another setand if an item is present in both sets, only one appearance of this item will be present in the updated set. "
   ]
  },
  {
   "cell_type": "code",
   "execution_count": 51,
   "id": "5c732c12-ff3c-4b53-8efc-5da7433b183c",
   "metadata": {},
   "outputs": [
    {
     "name": "stdout",
     "output_type": "stream",
     "text": [
      "{'y', 'b', 'x', 'c', 'a'}\n"
     ]
    }
   ],
   "source": [
    "#example of union()\n",
    "a = {\"a\", \"b\", \"c\"}\n",
    "b = {\"x\", \"y\", \"a\"}\n",
    "\n",
    "c = a.union(b) \n",
    "\n",
    "print(c)\n"
   ]
  },
  {
   "cell_type": "code",
   "execution_count": 56,
   "id": "3c48af47-9eb6-4946-80c0-83846c90efff",
   "metadata": {},
   "outputs": [
    {
     "name": "stdout",
     "output_type": "stream",
     "text": [
      "{'y', 'x', 'c', 'a', 'P', 'b'}\n"
     ]
    }
   ],
   "source": [
    "#example of update()\n",
    "a = {\"a\", \"b\", \"c\",\"a\",\"P\"}\n",
    "b = {\"x\", \"y\", \"a\",\"P\"}\n",
    "\n",
    "a.update(b) \n",
    "\n",
    "print(a)"
   ]
  },
  {
   "cell_type": "markdown",
   "id": "c1d70640-24da-4dc8-a40a-267d59268a50",
   "metadata": {},
   "source": [
    "## Q5. What is a dictionary? Give an example. Also, state whether a dictionary is ordered or unordered."
   ]
  },
  {
   "cell_type": "markdown",
   "id": "fb3142f5-586a-4866-b294-fb6091f3d009",
   "metadata": {},
   "source": [
    "Dictionaries are used to store data values in key:value pairs.\n",
    "\n",
    "A dictionary is a collection which is ordered, changeable and do not allow duplicates."
   ]
  },
  {
   "cell_type": "markdown",
   "id": "67d3421a-4e93-4727-8d72-17bf5e955bee",
   "metadata": {},
   "source": [
    "## Q6. Can we create a nested dictionary? If so, please give an example by creating a simple one-level nested dictionary."
   ]
  },
  {
   "cell_type": "markdown",
   "id": "754cd0d9-2d79-4e96-8e50-8ba75153b891",
   "metadata": {},
   "source": [
    "Yes, we can create nested dictionary"
   ]
  },
  {
   "cell_type": "code",
   "execution_count": 59,
   "id": "51a74b12-f42c-4167-b2d2-3f98c80699b3",
   "metadata": {},
   "outputs": [
    {
     "name": "stdout",
     "output_type": "stream",
     "text": [
      "{'child1': {'name': 'Harry', 'year': 1997}, 'child2': {'name': 'Ron', 'year': 2003}}\n",
      "Ron\n"
     ]
    }
   ],
   "source": [
    "#example of nested dictionary\n",
    "family = {\n",
    "  \"child1\" : {\n",
    "    \"name\" : \"Harry\",\n",
    "    \"year\" : 1997\n",
    "  },\n",
    "  \"child2\" : {\n",
    "    \"name\" : \"Ron\",\n",
    "    \"year\" : 2003\n",
    "  }\n",
    "}\n",
    "\n",
    "print(family)\n",
    "print(family[\"child2\"][\"name\"])"
   ]
  },
  {
   "cell_type": "markdown",
   "id": "e9c4fbb7-4fa1-4639-a619-440d5c813c1d",
   "metadata": {},
   "source": [
    "## Q7. Using setdefault() method, create key named topics in the given dictionary and also add the value of the key as this \n",
    "list ['Python', 'Machine Learning’, 'Deep Learning'] </br>\n",
    "dict1 = {'language' : 'Python', 'course': 'Data Science Masters'}"
   ]
  },
  {
   "cell_type": "code",
   "execution_count": 84,
   "id": "30c600e4-e61d-4116-b493-49c543f9cf31",
   "metadata": {},
   "outputs": [],
   "source": [
    "dict1 = {\n",
    "  \"language\": \"Python\",\n",
    "  \"course\": \"'Data Science Masters\"\n",
    "}"
   ]
  },
  {
   "cell_type": "code",
   "execution_count": 85,
   "id": "a7131589-bc69-4015-9893-36c868710f3f",
   "metadata": {},
   "outputs": [],
   "source": [
    "x = dict1.setdefault(\"language\", \"Python\")\n",
    "x = dict1.setdefault(\"course\", \"Data Science Masters\")\n",
    "x = dict1.setdefault(\"course2\", \"Machine Learning\")\n",
    "x = dict1.setdefault(\"course3\", \"Deep Learning\")"
   ]
  },
  {
   "cell_type": "code",
   "execution_count": 86,
   "id": "77031483-f607-400d-ac2f-0d339fd111bd",
   "metadata": {},
   "outputs": [
    {
     "data": {
      "text/plain": [
       "{'language': 'Python',\n",
       " 'course': \"'Data Science Masters\",\n",
       " 'course2': 'Machine Learning',\n",
       " 'course3': 'Deep Learning'}"
      ]
     },
     "execution_count": 86,
     "metadata": {},
     "output_type": "execute_result"
    }
   ],
   "source": [
    "dict1"
   ]
  },
  {
   "cell_type": "markdown",
   "id": "97f0fbee-c410-4d0a-bb2b-d6398cbdeb12",
   "metadata": {},
   "source": [
    "## Q8. What are the three view objects in dictionaries? Use the three in-built methods in python to display these three view objects for the given dictionary.\n",
    "dict1 = {'Sport': 'Cricket' , 'Teams': ['India', 'Australia', 'England', 'South Africa', 'Sri Lanka', 'New Zealand']}"
   ]
  },
  {
   "cell_type": "markdown",
   "id": "039a7c81-21ca-4577-af5c-fc12b90572ff",
   "metadata": {},
   "source": [
    "The 3 in-built objects in dictionaries are: \n",
    "1.keys \n",
    "2.values \n",
    "3.items\n",
    "\n",
    "Following is the example of the in-built methods to display these objects"
   ]
  },
  {
   "cell_type": "code",
   "execution_count": 92,
   "id": "3482b7df-add9-4608-bf16-1dea3336fb9a",
   "metadata": {},
   "outputs": [],
   "source": [
    "dict1 = {'Sport': 'Cricket' , 'Teams': ['India', 'Australia', 'England', 'South Africa', 'Sri Lanka', 'New Zealand']}\n"
   ]
  },
  {
   "cell_type": "code",
   "execution_count": 93,
   "id": "91caa483-23a8-4ca8-8894-163d01ed3fa3",
   "metadata": {},
   "outputs": [
    {
     "data": {
      "text/plain": [
       "dict_items([('Sport', 'Cricket'), ('Teams', ['India', 'Australia', 'England', 'South Africa', 'Sri Lanka', 'New Zealand'])])"
      ]
     },
     "execution_count": 93,
     "metadata": {},
     "output_type": "execute_result"
    }
   ],
   "source": [
    "dict1.items()"
   ]
  },
  {
   "cell_type": "code",
   "execution_count": 94,
   "id": "df94ea6a-488c-495e-a094-fc24d529f7e1",
   "metadata": {},
   "outputs": [
    {
     "data": {
      "text/plain": [
       "dict_keys(['Sport', 'Teams'])"
      ]
     },
     "execution_count": 94,
     "metadata": {},
     "output_type": "execute_result"
    }
   ],
   "source": [
    "dict1.keys()"
   ]
  },
  {
   "cell_type": "code",
   "execution_count": 95,
   "id": "f631e778-3cef-40f3-b6c7-a8a2e4ab8e85",
   "metadata": {},
   "outputs": [
    {
     "data": {
      "text/plain": [
       "dict_values(['Cricket', ['India', 'Australia', 'England', 'South Africa', 'Sri Lanka', 'New Zealand']])"
      ]
     },
     "execution_count": 95,
     "metadata": {},
     "output_type": "execute_result"
    }
   ],
   "source": [
    "dict1.values()"
   ]
  }
 ],
 "metadata": {
  "kernelspec": {
   "display_name": "Python 3 (ipykernel)",
   "language": "python",
   "name": "python3"
  },
  "language_info": {
   "codemirror_mode": {
    "name": "ipython",
    "version": 3
   },
   "file_extension": ".py",
   "mimetype": "text/x-python",
   "name": "python",
   "nbconvert_exporter": "python",
   "pygments_lexer": "ipython3",
   "version": "3.10.8"
  }
 },
 "nbformat": 4,
 "nbformat_minor": 5
}
