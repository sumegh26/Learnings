{
 "cells": [
  {
   "cell_type": "markdown",
   "id": "7cad1b4e-5a3e-4ad6-a03f-d2f7404b18d9",
   "metadata": {},
   "source": [
    "## Q1. Create a python program to sort the given list of tuples based on integer value using a lambda function. \n",
    "\n",
    "### lst_sort = [('Sachin Tendulkar', 34357), ('Ricky Ponting', 27483), ('Jack Kallis', 25534), ('Virat Kohli', 24936)]"
   ]
  },
  {
   "cell_type": "code",
   "execution_count": 23,
   "id": "d7dd8137-3e5a-4026-9477-2ae9c0a6ee0c",
   "metadata": {},
   "outputs": [],
   "source": [
    "lst_sort = [('Sachin Tendulkar', 34357), ('Ricky Ponting', 27483), ('Jack Kallis', 25534), ('Virat Kohli', 24936)]\n",
    "sorted_list = sorted(lst_sort, key=lambda x: x[1])"
   ]
  },
  {
   "cell_type": "code",
   "execution_count": 24,
   "id": "3763707a-8310-4bef-8649-c82ed338a606",
   "metadata": {},
   "outputs": [
    {
     "data": {
      "text/plain": [
       "[('Virat Kohli', 24936),\n",
       " ('Jack Kallis', 25534),\n",
       " ('Ricky Ponting', 27483),\n",
       " ('Sachin Tendulkar', 34357)]"
      ]
     },
     "execution_count": 24,
     "metadata": {},
     "output_type": "execute_result"
    }
   ],
   "source": [
    "sorted_list"
   ]
  },
  {
   "cell_type": "markdown",
   "id": "f1bdba86-1746-4f11-88c1-2d973a201078",
   "metadata": {},
   "source": [
    "## Q2. Write a Python Program to find the squares of all the numbers in the given list of integers using lambda and map functions.\n",
    "\n",
    "\n",
    "[1, 2, 3, 4, 5, 6, 7, 8, 9, 10]"
   ]
  },
  {
   "cell_type": "code",
   "execution_count": 53,
   "id": "65ab5d88-e61a-458d-b0f6-348a730aaab3",
   "metadata": {},
   "outputs": [],
   "source": [
    "lst_f = [1, 2, 3, 4, 5, 6, 7, 8, 9, 10]"
   ]
  },
  {
   "cell_type": "code",
   "execution_count": 66,
   "id": "3ff1fac8-9199-4ed2-a6e6-7880d8864310",
   "metadata": {},
   "outputs": [
    {
     "data": {
      "text/plain": [
       "[1, 4, 9, 16, 25, 36, 49, 64, 81, 100]"
      ]
     },
     "execution_count": 66,
     "metadata": {},
     "output_type": "execute_result"
    }
   ],
   "source": [
    "list(map(lambda x : x**2 ,lst_f))"
   ]
  },
  {
   "cell_type": "markdown",
   "id": "5c7e6390-124f-4fca-bd13-fbce12d45c32",
   "metadata": {},
   "source": [
    "## Q3. Write a python program to convert the given list of integers into a tuple of strings. Use map and lambda functions\n",
    "\n",
    "\n",
    "### Given String: [1, 2, 3, 4, 5, 6, 7, 8, 9, 10]\n",
    "\n",
    "### Expected output: ('1', '2', '3', '4', '5', '6', '7', '8', '9', '10')"
   ]
  },
  {
   "cell_type": "code",
   "execution_count": 67,
   "id": "76d595d2-6b72-4617-b092-fa175014b06d",
   "metadata": {},
   "outputs": [],
   "source": [
    "list_int = [1, 2, 3, 4, 5, 6, 7, 8, 9, 10]"
   ]
  },
  {
   "cell_type": "code",
   "execution_count": 70,
   "id": "218c91df-9628-49e4-b0cd-0f99b06c6017",
   "metadata": {},
   "outputs": [
    {
     "data": {
      "text/plain": [
       "('1', '2', '3', '4', '5', '6', '7', '8', '9', '10')"
      ]
     },
     "execution_count": 70,
     "metadata": {},
     "output_type": "execute_result"
    }
   ],
   "source": [
    "tuple(map(lambda i: str(i), list_int))"
   ]
  },
  {
   "cell_type": "markdown",
   "id": "8a3e3b01-9b19-4120-855e-70af657c3d2e",
   "metadata": {},
   "source": [
    "## Q4.  Write a python program using reduce function to compute the product of a list containing numbers from 1 to 25."
   ]
  },
  {
   "cell_type": "code",
   "execution_count": 76,
   "id": "0743d2c1-4464-4a8f-9124-206e1e6f4cff",
   "metadata": {},
   "outputs": [],
   "source": [
    "from functools import reduce\n",
    "list_red = list(range(1,26))"
   ]
  },
  {
   "cell_type": "code",
   "execution_count": 77,
   "id": "ed3e34a9-d027-416a-9880-437093856312",
   "metadata": {},
   "outputs": [
    {
     "data": {
      "text/plain": [
       "15511210043330985984000000"
      ]
     },
     "execution_count": 77,
     "metadata": {},
     "output_type": "execute_result"
    }
   ],
   "source": [
    "reduce(lambda x,y : x*y, list_red)"
   ]
  },
  {
   "cell_type": "markdown",
   "id": "1e8b51fb-649c-44d8-9018-7b0a5d8cd976",
   "metadata": {},
   "source": [
    "## Q5. Write a python program to filter the numbers in a given list that are divisible by 2 and 3 using the filter function.\n",
    "\n",
    "\n",
    "[2, 3, 6, 9, 27, 60, 90, 120, 55, 46]"
   ]
  },
  {
   "cell_type": "code",
   "execution_count": 92,
   "id": "d957040a-5769-49de-9ee5-10f6fd67b53d",
   "metadata": {},
   "outputs": [],
   "source": [
    "list_fil = [2, 3, 6, 9, 27, 60, 90, 120, 55, 46]"
   ]
  },
  {
   "cell_type": "code",
   "execution_count": 95,
   "id": "f45529c3-85f2-493b-853c-24529c98e7d2",
   "metadata": {},
   "outputs": [
    {
     "data": {
      "text/plain": [
       "[6, 60, 90, 120]"
      ]
     },
     "execution_count": 95,
     "metadata": {},
     "output_type": "execute_result"
    }
   ],
   "source": [
    "list(filter(lambda x : x if (x%2==0 and x%3==0) else None, list_fil))"
   ]
  },
  {
   "cell_type": "markdown",
   "id": "c8750d4b-61c5-469c-b8d0-d60960613ce3",
   "metadata": {},
   "source": [
    "## Q6. Write a python program to find palindromes in the given list of strings using lambda and filter function.\n",
    "\n",
    "\n",
    "['python', 'php', 'aba', 'radar', 'level']"
   ]
  },
  {
   "cell_type": "code",
   "execution_count": 114,
   "id": "641edb1b-fdc1-42f0-9255-7d29cd500743",
   "metadata": {},
   "outputs": [],
   "source": [
    "list_palindrome = ['python', 'php', 'aba', 'radar', 'level']"
   ]
  },
  {
   "cell_type": "code",
   "execution_count": 115,
   "id": "ec7e5798-409a-4ca6-81ff-4003473d6759",
   "metadata": {},
   "outputs": [
    {
     "data": {
      "text/plain": [
       "['php', 'aba', 'radar', 'level']"
      ]
     },
     "execution_count": 115,
     "metadata": {},
     "output_type": "execute_result"
    }
   ],
   "source": [
    "list(filter(lambda x: x if (x[::-1]==x) else None, list_palindrome))"
   ]
  },
  {
   "cell_type": "code",
   "execution_count": null,
   "id": "9ab8a178-092c-4baa-801e-9a9454996466",
   "metadata": {},
   "outputs": [],
   "source": []
  }
 ],
 "metadata": {
  "kernelspec": {
   "display_name": "Python 3 (ipykernel)",
   "language": "python",
   "name": "python3"
  },
  "language_info": {
   "codemirror_mode": {
    "name": "ipython",
    "version": 3
   },
   "file_extension": ".py",
   "mimetype": "text/x-python",
   "name": "python",
   "nbconvert_exporter": "python",
   "pygments_lexer": "ipython3",
   "version": "3.10.8"
  }
 },
 "nbformat": 4,
 "nbformat_minor": 5
}
