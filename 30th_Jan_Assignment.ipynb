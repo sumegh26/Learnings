{
 "cells": [
  {
   "cell_type": "markdown",
   "id": "b4fd6d16-c959-488e-8caa-1343ad3072bf",
   "metadata": {},
   "source": [
    "## 1. Write a program to accept percentage from the user and display the grade according to the following criteria:\n"
   ]
  },
  {
   "cell_type": "code",
   "execution_count": 11,
   "id": "ce808221-d96a-4591-aaa5-146ec2f42880",
   "metadata": {},
   "outputs": [
    {
     "name": "stdin",
     "output_type": "stream",
     "text": [
      " 95\n"
     ]
    },
    {
     "name": "stdout",
     "output_type": "stream",
     "text": [
      "A\n"
     ]
    }
   ],
   "source": [
    "percentage = int(input())\n",
    "if percentage >90:\n",
    "    print(\"A\")\n",
    "elif percentage >= 80 :\n",
    "    print(\"B\")\n",
    "elif percentage >=60 :\n",
    "    print(\"C\")\n",
    "else:\n",
    "    print(\"D\")"
   ]
  },
  {
   "cell_type": "markdown",
   "id": "5cbddf2e-4f2c-41d3-a337-e79e37ab4e32",
   "metadata": {},
   "source": [
    "## 2. Write a program to accept the cost price of a bike and display the road tax to be paid according to the following criteria:"
   ]
  },
  {
   "cell_type": "code",
   "execution_count": 21,
   "id": "151bc80c-2319-4618-887c-02c877cb1e4d",
   "metadata": {},
   "outputs": [
    {
     "name": "stdin",
     "output_type": "stream",
     "text": [
      " 58648\n"
     ]
    },
    {
     "name": "stdout",
     "output_type": "stream",
     "text": [
      "10%\n"
     ]
    }
   ],
   "source": [
    "price = int(input())\n",
    "if price >100000:\n",
    "    print(\"15%\")\n",
    "elif price >= 50000 :\n",
    "    print(\"10%\")\n",
    "else :\n",
    "    print(\"5%\")\n"
   ]
  },
  {
   "cell_type": "markdown",
   "id": "1c4e0053-b09c-4e59-b2b6-db5b942ed84e",
   "metadata": {},
   "source": [
    "## 3. Accept any city from the user and display monuments of that city. City"
   ]
  },
  {
   "cell_type": "code",
   "execution_count": 25,
   "id": "f581b2b3-dde2-4f5a-8ad7-da958249eed9",
   "metadata": {},
   "outputs": [
    {
     "name": "stdin",
     "output_type": "stream",
     "text": [
      " Jaipur\n"
     ]
    },
    {
     "name": "stdout",
     "output_type": "stream",
     "text": [
      "Jal Mahal\n"
     ]
    }
   ],
   "source": [
    "city = input()\n",
    "if city==\"Delhi\":\n",
    "    print(\"Red Fort\")\n",
    "elif city==\"Agra\":\n",
    "    print(\"Taj Mahal\")\n",
    "elif city==\"Jaipur\":\n",
    "    print(\"Jal Mahal\")\n",
    "else:\n",
    "    print(\"Incorrect city\")"
   ]
  },
  {
   "cell_type": "markdown",
   "id": "3d5c9c5c-2bd1-4d9b-a2f6-0f3b9980b885",
   "metadata": {},
   "source": [
    "## 4. Check how many times a given number can be divided by 3 before it is less than or equal  10"
   ]
  },
  {
   "cell_type": "code",
   "execution_count": 30,
   "id": "086a62af-fadf-47f2-8ce8-6b225f0ace5e",
   "metadata": {},
   "outputs": [
    {
     "name": "stdout",
     "output_type": "stream",
     "text": [
      "The number can be divided by 3 [ 7 ] times before it is less than or equal to 10.\n"
     ]
    }
   ],
   "source": [
    "num = 12345\n",
    "count = 0\n",
    "\n",
    "while num > 10:\n",
    "    num /= 3\n",
    "    count += 1\n",
    "\n",
    "print(\"The number can be divided by 3 [\", count, \"] times before it is less than or equal to 10.\")"
   ]
  },
  {
   "cell_type": "markdown",
   "id": "baca171d-d067-462f-962e-bd72ad1132d1",
   "metadata": {},
   "source": [
    "## 5. Why and When to Use while Loop in Python give a detailed description with example"
   ]
  },
  {
   "cell_type": "markdown",
   "id": "cff47667-0e66-4a53-9e16-c7dbb483b3c1",
   "metadata": {},
   "source": [
    " while loop is used to repeatedly execute a block of code as long as a specified condition is true. The loop continues to execute as long as the condition remains true, and stops executing as soon as the condition becomes false. The while loop is useful when you need to perform an action repeatedly until a specific condition is met."
   ]
  },
  {
   "cell_type": "code",
   "execution_count": 32,
   "id": "4ae1f35e-2625-4e8b-a848-e938b60035fc",
   "metadata": {},
   "outputs": [
    {
     "name": "stdout",
     "output_type": "stream",
     "text": [
      "5\n",
      "4\n",
      "3\n",
      "2\n",
      "1\n",
      "while loop done!\n"
     ]
    }
   ],
   "source": [
    "# Example\n",
    "count = 5\n",
    "while count > 0:\n",
    "    print(count)\n",
    "    count -= 1\n",
    "print(\"while loop done!\")"
   ]
  },
  {
   "cell_type": "markdown",
   "id": "28a5ff34-6ee6-4ee6-8752-05383af9761e",
   "metadata": {},
   "source": [
    "## 6. Use nested while loop to print 3 different pattern."
   ]
  },
  {
   "cell_type": "code",
   "execution_count": 33,
   "id": "7719611f-d2eb-449b-9a7f-0f1b4c4ae500",
   "metadata": {},
   "outputs": [
    {
     "name": "stdout",
     "output_type": "stream",
     "text": [
      "Pattern 1:\n",
      "*\n",
      "**\n",
      "***\n",
      "****\n",
      "*****\n",
      "Pattern 2:\n",
      "*****\n",
      "****\n",
      "***\n",
      "**\n",
      "*\n",
      "Pattern 3:\n",
      "*****\n",
      "*****\n",
      "*****\n",
      "*****\n",
      "*****\n"
     ]
    }
   ],
   "source": [
    "# Pattern 1: Right triangle\n",
    "print(\"Pattern 1:\")\n",
    "i = 1\n",
    "while i <= 5:\n",
    "    j = 1\n",
    "    while j <= i:\n",
    "        print(\"*\", end=\"\")\n",
    "        j += 1\n",
    "    print()\n",
    "    i += 1\n",
    "\n",
    "# Pattern 2: Inverted right triangle\n",
    "print(\"Pattern 2:\")\n",
    "i = 5\n",
    "while i >= 1:\n",
    "    j = 1\n",
    "    while j <= i:\n",
    "        print(\"*\", end=\"\")\n",
    "        j += 1\n",
    "    print()\n",
    "    i -= 1\n",
    "\n",
    "# Pattern 3: Square\n",
    "print(\"Pattern 3:\")\n",
    "i = 1\n",
    "while i <= 5:\n",
    "    j = 1\n",
    "    while j <= 5:\n",
    "        print(\"*\", end=\"\")\n",
    "        j += 1\n",
    "    print()\n",
    "    i += 1"
   ]
  },
  {
   "cell_type": "markdown",
   "id": "bc11ef14-52a8-4b20-ad2d-b703ed4e5a64",
   "metadata": {},
   "source": [
    "## 7. Reverse a while loop to display numbers from 10 to 1."
   ]
  },
  {
   "cell_type": "code",
   "execution_count": 36,
   "id": "bd0ae418-7b2b-4f4b-8953-b396ffc2927a",
   "metadata": {},
   "outputs": [
    {
     "name": "stdout",
     "output_type": "stream",
     "text": [
      "10\n",
      "9\n",
      "8\n",
      "7\n",
      "6\n",
      "5\n",
      "4\n",
      "3\n",
      "2\n",
      "1\n"
     ]
    }
   ],
   "source": [
    "num = 10\n",
    "while num >= 1:\n",
    "    print(num)\n",
    "    num -= 1"
   ]
  },
  {
   "cell_type": "markdown",
   "id": "ab951d7a-04f3-4f27-97b8-08c077f37624",
   "metadata": {},
   "source": [
    "## 8. Reverse a while loop to display numbers from 10 to 1"
   ]
  },
  {
   "cell_type": "code",
   "execution_count": 37,
   "id": "fda26616-fd9a-4e1d-ae9d-9085fde0bf2f",
   "metadata": {},
   "outputs": [
    {
     "name": "stdout",
     "output_type": "stream",
     "text": [
      "10\n",
      "9\n",
      "8\n",
      "7\n",
      "6\n",
      "5\n",
      "4\n",
      "3\n",
      "2\n",
      "1\n"
     ]
    }
   ],
   "source": [
    "num = 10\n",
    "while num >= 1:\n",
    "    print(num)\n",
    "    num -= 1"
   ]
  }
 ],
 "metadata": {
  "kernelspec": {
   "display_name": "Python 3 (ipykernel)",
   "language": "python",
   "name": "python3"
  },
  "language_info": {
   "codemirror_mode": {
    "name": "ipython",
    "version": 3
   },
   "file_extension": ".py",
   "mimetype": "text/x-python",
   "name": "python",
   "nbconvert_exporter": "python",
   "pygments_lexer": "ipython3",
   "version": "3.10.8"
  }
 },
 "nbformat": 4,
 "nbformat_minor": 5
}
